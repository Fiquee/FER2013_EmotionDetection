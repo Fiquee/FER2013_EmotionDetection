{
 "cells": [
  {
   "cell_type": "code",
   "execution_count": 16,
   "metadata": {},
   "outputs": [],
   "source": [
    "import os\n",
    "import pandas as pd\n",
    "import numpy as np\n",
    "import cv2 as cv\n",
    "from sklearn.preprocessing import OneHotEncoder\n",
    "from sklearn.model_selection import train_test_split\n",
    "from sklearn.metrics import confusion_matrix, classification_report\n",
    "# from cf_matrix import make_confusion_matrix\n",
    "import matplotlib.pyplot as plt\n",
    "import tensorflow as tf\n",
    "tf.keras.models.Sequential()\n",
    "from keras import models\n",
    "from keras.layers import Dense, Dropout, Flatten, Conv2D, MaxPooling2D\n",
    "from keras.models import Sequential\n",
    "from keras.layers import *"
   ]
  },
  {
   "cell_type": "code",
   "execution_count": 2,
   "metadata": {},
   "outputs": [
    {
     "name": "stdout",
     "output_type": "stream",
     "text": [
      "['angry', 'disgusted', 'fearful', 'happy', 'neutral', 'sad', 'surprised']\n"
     ]
    }
   ],
   "source": [
    "folder_list = os.listdir(\"train\")\n",
    "print(folder_list)"
   ]
  },
  {
   "cell_type": "code",
   "execution_count": 3,
   "metadata": {},
   "outputs": [
    {
     "name": "stdout",
     "output_type": "stream",
     "text": [
      "(48, 48, 3)\n"
     ]
    },
    {
     "data": {
      "text/plain": [
       "(-0.5, 47.5, 47.5, -0.5)"
      ]
     },
     "execution_count": 3,
     "metadata": {},
     "output_type": "execute_result"
    },
    {
     "data": {
      "image/png": "[encoded data removed]",
      "text/plain": [
       "<Figure size 1440x720 with 1 Axes>"
      ]
     },
     "metadata": {
      "needs_background": "light"
     },
     "output_type": "display_data"
    }
   ],
   "source": [
    "imagePath = \"train/angry/im0.png\"\n",
    "\n",
    "img = cv.imread(imagePath)\n",
    "print(img.shape)\n",
    "\n",
    "# img_rgb = cv.cvtColor(img, cv.COLOR_BGR2RGB)\n",
    "\n",
    "plt.figure(figsize=(20,10))\n",
    "plt.imshow(img)\n",
    "plt.axis('off')"
   ]
  },
  {
   "cell_type": "code",
   "execution_count": 4,
   "metadata": {},
   "outputs": [],
   "source": [
    "def dataset_setup(folder):\n",
    "    X = []\n",
    "    y = []\n",
    "\n",
    "\n",
    "    folder_list = os.listdir(folder)\n",
    "\n",
    "    for curr_folder in folder_list:\n",
    "        for image_name in os.listdir(os.path.join(folder,curr_folder)):\n",
    "            label = curr_folder\n",
    "\n",
    "            image = cv.imread(os.path.join(f\"./{folder}/{curr_folder}\", image_name))\n",
    "            grayscale = cv.cvtColor(image, cv.COLOR_BGR2GRAY)\n",
    "\n",
    "            # normalized = grayscale / 255\n",
    "            # resized = cv.resize(normalized, (60, 40), interpolation=cv.INTER_AREA)\n",
    "            # resized = cv.resize(normalized, (40, 40), interpolation=cv.INTER_AREA)\n",
    "\n",
    "            # Unrolling the matrices into vectors of 2400 pixels.\n",
    "            X.append(grayscale)\n",
    "            y.append(label)\n",
    "\n",
    "    X = np.array(X)\n",
    "    y = np.array(y)\n",
    "\n",
    "    # plt.imshow(np.reshape(X[0], (40,60)), cmap=\"gray\")\n",
    "    plt.imshow(X[3995], cmap=\"gray\")\n",
    "    plt.title(f\"Example of Processed Image (48x48) label:{y[3995]}\")\n",
    "\n",
    "    print(\"Input Array Shape:\",X.shape)\n",
    "    print(\"Label Array Shape:\",y.shape)\n",
    "\n",
    "    return X, y"
   ]
  },
  {
   "cell_type": "code",
   "execution_count": 5,
   "metadata": {},
   "outputs": [
    {
     "name": "stdout",
     "output_type": "stream",
     "text": [
      "Input Array Shape: (28709, 48, 48)\n",
      "Label Array Shape: (28709,)\n",
      "Input Array Shape: (7178, 48, 48)\n",
      "Label Array Shape: (7178,)\n"
     ]
    },
    {
     "data": {
      "image/png": "[encoded data removed]",
      "text/plain": [
       "<Figure size 432x288 with 1 Axes>"
      ]
     },
     "metadata": {
      "needs_background": "light"
     },
     "output_type": "display_data"
    }
   ],
   "source": [
    "X, y = dataset_setup(\"train\")\n",
    "X_test, y_test = dataset_setup(\"test\")"
   ]
  },
  {
   "cell_type": "code",
   "execution_count": 6,
   "metadata": {},
   "outputs": [
    {
     "name": "stdout",
     "output_type": "stream",
     "text": [
      "[[1. 0. 0. 0. 0. 0. 0.]\n",
      " [0. 1. 0. 0. 0. 0. 0.]\n",
      " [0. 1. 0. 0. 0. 0. 0.]\n",
      " [0. 1. 0. 0. 0. 0. 0.]]\n",
      "(28709, 7)\n"
     ]
    }
   ],
   "source": [
    "encoder = OneHotEncoder(categories=[folder_list])\n",
    "y_encoded = np.array(encoder.fit_transform(y.reshape(-1,1)).toarray())\n",
    "\n",
    "print(y_encoded[3994:3998, :])\n",
    "print(y_encoded.shape)"
   ]
  },
  {
   "cell_type": "code",
   "execution_count": 7,
   "metadata": {},
   "outputs": [
    {
     "name": "stdout",
     "output_type": "stream",
     "text": [
      "[[0. 0. 0. 0. 1. 0. 0.]\n",
      " [0. 0. 0. 0. 1. 0. 0.]\n",
      " [0. 0. 0. 0. 1. 0. 0.]\n",
      " [0. 0. 0. 0. 1. 0. 0.]]\n",
      "(7178, 7)\n"
     ]
    }
   ],
   "source": [
    "encoder = OneHotEncoder(categories=[folder_list])\n",
    "y_test_encoded = np.array(encoder.fit_transform(y_test.reshape(-1,1)).toarray())\n",
    "\n",
    "print(y_test_encoded[3994:3998, :])\n",
    "print(y_test_encoded.shape)"
   ]
  },
  {
   "cell_type": "code",
   "execution_count": 18,
   "metadata": {},
   "outputs": [
    {
     "name": "stdout",
     "output_type": "stream",
     "text": [
      "Model: \"sequential_5\"\n",
      "_________________________________________________________________\n",
      " Layer (type)                Output Shape              Param #   \n",
      "=================================================================\n",
      " conv2d_6 (Conv2D)           (None, 48, 48, 32)        320       \n",
      "                                                                 \n",
      " conv2d_7 (Conv2D)           (None, 48, 48, 32)        9248      \n",
      "                                                                 \n",
      " max_pooling2d_3 (MaxPooling  (None, 24, 24, 32)       0         \n",
      " 2D)                                                             \n",
      "                                                                 \n",
      " dropout_5 (Dropout)         (None, 24, 24, 32)        0         \n",
      "                                                                 \n",
      " batch_normalization_4 (Batc  (None, 24, 24, 32)       128       \n",
      " hNormalization)                                                 \n",
      "                                                                 \n",
      " conv2d_8 (Conv2D)           (None, 24, 24, 64)        18496     \n",
      "                                                                 \n",
      " conv2d_9 (Conv2D)           (None, 24, 24, 64)        36928     \n",
      "                                                                 \n",
      " max_pooling2d_4 (MaxPooling  (None, 12, 12, 64)       0         \n",
      " 2D)                                                             \n",
      "                                                                 \n",
      " dropout_6 (Dropout)         (None, 12, 12, 64)        0         \n",
      "                                                                 \n",
      " batch_normalization_5 (Batc  (None, 12, 12, 64)       256       \n",
      " hNormalization)                                                 \n",
      "                                                                 \n",
      " conv2d_10 (Conv2D)          (None, 12, 12, 128)       73856     \n",
      "                                                                 \n",
      " conv2d_11 (Conv2D)          (None, 12, 12, 128)       147584    \n",
      "                                                                 \n",
      " max_pooling2d_5 (MaxPooling  (None, 6, 6, 128)        0         \n",
      " 2D)                                                             \n",
      "                                                                 \n",
      " dropout_7 (Dropout)         (None, 6, 6, 128)         0         \n",
      "                                                                 \n",
      " batch_normalization_6 (Batc  (None, 6, 6, 128)        512       \n",
      " hNormalization)                                                 \n",
      "                                                                 \n",
      " flatten_2 (Flatten)         (None, 4608)              0         \n",
      "                                                                 \n",
      " dense_7 (Dense)             (None, 64)                294976    \n",
      "                                                                 \n",
      " dropout_8 (Dropout)         (None, 64)                0         \n",
      "                                                                 \n",
      " dense_8 (Dense)             (None, 32)                2080      \n",
      "                                                                 \n",
      " dropout_9 (Dropout)         (None, 32)                0         \n",
      "                                                                 \n",
      " batch_normalization_7 (Batc  (None, 32)               128       \n",
      " hNormalization)                                                 \n",
      "                                                                 \n",
      " dense_9 (Dense)             (None, 7)                 231       \n",
      "                                                                 \n",
      "=================================================================\n",
      "Total params: 584,743\n",
      "Trainable params: 584,231\n",
      "Non-trainable params: 512\n",
      "_________________________________________________________________\n"
     ]
    }
   ],
   "source": [
    "#CNN MODEL (Uncomment to use it)\n",
    "\n",
    "model = Sequential([\n",
    "    Conv2D(32, (3,3), activation = 'relu', padding = 'same', input_shape = (48,48,1)),\n",
    "    Conv2D(32, (3,3), activation = 'relu', padding = 'same'),\n",
    "    MaxPooling2D(2,2),\n",
    "    Dropout(0.25),\n",
    "    BatchNormalization(),\n",
    "\n",
    "    Conv2D(64, (3,3), activation = 'relu', padding = 'same'),\n",
    "    Conv2D(64, (3,3), activation = 'relu', padding = 'same'),\n",
    "    MaxPooling2D(2,2),\n",
    "    Dropout(0.25),\n",
    "    BatchNormalization(),\n",
    "    \n",
    "    Conv2D(128, (3,3), activation = 'relu', padding = 'same'),\n",
    "    Conv2D(128, (3,3), activation = 'relu', padding = 'same'),\n",
    "    MaxPooling2D(2,2),\n",
    "    Dropout(0.25),\n",
    "    BatchNormalization(),\n",
    "\n",
    "    Flatten(),\n",
    "    \n",
    "    Dense(64, activation='relu'),\n",
    "    Dropout(0.25),\n",
    "    Dense(32, activation='relu'),\n",
    "    Dropout(0.25),\n",
    "    BatchNormalization(),\n",
    "    Dense(7, activation='softmax')\n",
    "])\n",
    "\n",
    "model.summary()"
   ]
  },
  {
   "cell_type": "code",
   "execution_count": 28,
   "metadata": {},
   "outputs": [
    {
     "name": "stdout",
     "output_type": "stream",
     "text": [
      "Model: \"sequential_9\"\n",
      "_________________________________________________________________\n",
      " Layer (type)                Output Shape              Param #   \n",
      "=================================================================\n",
      " flatten_6 (Flatten)         (None, 2304)              0         \n",
      "                                                                 \n",
      " dense_22 (Dense)            (None, 1024)              2360320   \n",
      "                                                                 \n",
      " dense_23 (Dense)            (None, 512)               524800    \n",
      "                                                                 \n",
      " dense_24 (Dense)            (None, 256)               131328    \n",
      "                                                                 \n",
      " dense_25 (Dense)            (None, 7)                 1799      \n",
      "                                                                 \n",
      "=================================================================\n",
      "Total params: 3,018,247\n",
      "Trainable params: 3,018,247\n",
      "Non-trainable params: 0\n",
      "_________________________________________________________________\n"
     ]
    }
   ],
   "source": [
    "# MLP MODEL (uncomment to use it)\n",
    "\n",
    "# model = tf.keras.models.Sequential()\n",
    "\n",
    "# model.add(tf.keras.layers.Flatten(input_shape=(48, 48)))\n",
    "# model.add(tf.keras.layers.Dense(units=1024))\n",
    "# model.add(tf.keras.layers.Dense(units=512))\n",
    "# model.add(tf.keras.layers.Dense(units=256, activation=\"relu\"))\n",
    "\n",
    "# model.add(tf.keras.layers.Dense(units=7, activation=\"softmax\"))\n",
    "\n",
    "# model.summary()"
   ]
  },
  {
   "cell_type": "code",
   "execution_count": 26,
   "metadata": {},
   "outputs": [
    {
     "name": "stdout",
     "output_type": "stream",
     "text": [
      "Epoch 1/20\n",
      "57/57 [==============================] - 2s 37ms/step - loss: 1896.6949 - accuracy: 0.1742 - val_loss: 701.2605 - val_accuracy: 0.1470\n",
      "Epoch 2/20\n",
      "57/57 [==============================] - 2s 36ms/step - loss: 574.0048 - accuracy: 0.1822 - val_loss: 227.0000 - val_accuracy: 0.2091\n",
      "Epoch 3/20\n",
      "57/57 [==============================] - 2s 36ms/step - loss: 137.5889 - accuracy: 0.1797 - val_loss: 2.1827 - val_accuracy: 0.1358\n",
      "Epoch 4/20\n",
      "57/57 [==============================] - 2s 36ms/step - loss: 1.9746 - accuracy: 0.1984 - val_loss: 1.9497 - val_accuracy: 0.2471\n",
      "Epoch 5/20\n",
      "57/57 [==============================] - 2s 36ms/step - loss: 1.9361 - accuracy: 0.2516 - val_loss: 1.9396 - val_accuracy: 0.2473\n",
      "Epoch 6/20\n",
      "57/57 [==============================] - 2s 39ms/step - loss: 1.9253 - accuracy: 0.2516 - val_loss: 1.9316 - val_accuracy: 0.2471\n",
      "Epoch 7/20\n",
      "57/57 [==============================] - 2s 37ms/step - loss: 1.9163 - accuracy: 0.2518 - val_loss: 1.9239 - val_accuracy: 0.2471\n",
      "Epoch 8/20\n",
      "57/57 [==============================] - 2s 36ms/step - loss: 1.9080 - accuracy: 0.2517 - val_loss: 1.9170 - val_accuracy: 0.2473\n",
      "Epoch 9/20\n",
      "57/57 [==============================] - 2s 37ms/step - loss: 1.9004 - accuracy: 0.2517 - val_loss: 1.9111 - val_accuracy: 0.2471\n",
      "Epoch 10/20\n",
      "57/57 [==============================] - 2s 40ms/step - loss: 1.8932 - accuracy: 0.2517 - val_loss: 1.9047 - val_accuracy: 0.2471\n",
      "Epoch 11/20\n",
      "57/57 [==============================] - 2s 39ms/step - loss: 1.8865 - accuracy: 0.2518 - val_loss: 1.8978 - val_accuracy: 0.2471\n",
      "Epoch 12/20\n",
      "57/57 [==============================] - 2s 40ms/step - loss: 1.8803 - accuracy: 0.2518 - val_loss: 1.8925 - val_accuracy: 0.2471\n",
      "Epoch 13/20\n",
      "57/57 [==============================] - 2s 39ms/step - loss: 1.8745 - accuracy: 0.2518 - val_loss: 1.8881 - val_accuracy: 0.2471\n",
      "Epoch 14/20\n",
      "57/57 [==============================] - 2s 37ms/step - loss: 1.8691 - accuracy: 0.2519 - val_loss: 1.8842 - val_accuracy: 0.2473\n",
      "Epoch 15/20\n",
      "57/57 [==============================] - 2s 39ms/step - loss: 1.8641 - accuracy: 0.2520 - val_loss: 1.8794 - val_accuracy: 0.2471\n",
      "Epoch 16/20\n",
      "57/57 [==============================] - 2s 37ms/step - loss: 1.8594 - accuracy: 0.2520 - val_loss: 1.8761 - val_accuracy: 0.2471\n",
      "Epoch 17/20\n",
      "57/57 [==============================] - 2s 37ms/step - loss: 1.8550 - accuracy: 0.2520 - val_loss: 1.8722 - val_accuracy: 0.2471\n",
      "Epoch 18/20\n",
      "57/57 [==============================] - 2s 36ms/step - loss: 1.8511 - accuracy: 0.2520 - val_loss: 1.8696 - val_accuracy: 0.2474\n",
      "Epoch 19/20\n",
      "57/57 [==============================] - 2s 36ms/step - loss: 1.8474 - accuracy: 0.2521 - val_loss: 1.8669 - val_accuracy: 0.2476\n",
      "Epoch 20/20\n",
      "57/57 [==============================] - 2s 36ms/step - loss: 1.8443 - accuracy: 0.2523 - val_loss: 1.8639 - val_accuracy: 0.2476\n"
     ]
    }
   ],
   "source": [
    "model.compile(optimizer=\"adam\", loss=\"categorical_crossentropy\", metrics=[\"accuracy\"])\n",
    "\n",
    "# early_stopping = tf.keras.callbacks.EarlyStopping(monitor=\"val_loss\", patience=5, verbose=1, mode=\"min\")\n",
    "\n",
    "history = model.fit(X, y_encoded, batch_size=512, epochs=20, validation_data=(X_test, y_test_encoded))"
   ]
  },
  {
   "cell_type": "code",
   "execution_count": 24,
   "metadata": {},
   "outputs": [
    {
     "data": {
      "image/png": "[encoded data removed]",
      "text/plain": [
       "<Figure size 432x288 with 1 Axes>"
      ]
     },
     "metadata": {
      "needs_background": "light"
     },
     "output_type": "display_data"
    }
   ],
   "source": [
    "loss = history.history[\"loss\"]\n",
    "val_loss = history.history[\"val_loss\"]\n",
    "epoch_axis = [i+1 for i in range(len(loss))]\n",
    "\n",
    "plt.plot(epoch_axis, loss, label=\"Training Loss\")\n",
    "plt.plot(epoch_axis, val_loss, label=\"Validation Loss\")\n",
    "plt.title(\"Training vs Validation Loss\")\n",
    "plt.xlabel(\"Number of epochs\")\n",
    "plt.ylabel(\"Loss\")\n",
    "plt.legend()\n",
    "plt.show()"
   ]
  },
  {
   "cell_type": "code",
   "execution_count": 33,
   "metadata": {},
   "outputs": [
    {
     "name": "stdout",
     "output_type": "stream",
     "text": [
      "INFO:tensorflow:Assets written to: ./test_models\\model_test_v1\\assets\n"
     ]
    }
   ],
   "source": [
    "if \"saved_model\" not in os.listdir(\"./\"):\n",
    "    os.mkdir(os.path.join(\"./\", \"saved_model\"))\n",
    "    model.save(\"saved_model\")\n",
    "    \n",
    "else:\n",
    "    if \"test_models\" not in os.listdir(\"./\"):\n",
    "        os.mkdir(os.path.join(\"./\", \"test_models\"))\n",
    "        \n",
    "    test_models_directory = os.path.join(\"./\", \"test_models\")\n",
    "\n",
    "    model_name = input(\"Enter the model name:\")\n",
    "    model.save(os.path.join(test_models_directory, model_name))"
   ]
  }
 ],
 "metadata": {
  "kernelspec": {
   "display_name": "Python 3",
   "language": "python",
   "name": "python3"
  },
  "language_info": {
   "codemirror_mode": {
    "name": "ipython",
    "version": 3
   },
   "file_extension": ".py",
   "mimetype": "text/x-python",
   "name": "python",
   "nbconvert_exporter": "python",
   "pygments_lexer": "ipython3",
   "version": "3.9.6"
  }
 },
 "nbformat": 4,
 "nbformat_minor": 2
}
